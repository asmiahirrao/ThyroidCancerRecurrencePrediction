{
 "cells": [
  {
   "cell_type": "code",
   "execution_count": 14,
   "id": "943d588a-c800-4aea-91d9-ccb4bd60a5c9",
   "metadata": {},
   "outputs": [
    {
     "name": "stdout",
     "output_type": "stream",
     "text": [
      "[[58  0]\n",
      " [ 1 18]]\n",
      "              precision    recall  f1-score   support\n",
      "\n",
      "          No       0.98      1.00      0.99        58\n",
      "         Yes       1.00      0.95      0.97        19\n",
      "\n",
      "    accuracy                           0.99        77\n",
      "   macro avg       0.99      0.97      0.98        77\n",
      "weighted avg       0.99      0.99      0.99        77\n",
      "\n"
     ]
    },
    {
     "data": {
      "text/plain": [
       "['C:\\\\Users\\\\aahir\\\\Documents\\\\thyroid_recurrence_model.pkl']"
      ]
     },
     "execution_count": 14,
     "metadata": {},
     "output_type": "execute_result"
    }
   ],
   "source": [
    "# Load Data\n",
    "data_path = r'C:/Users/aahir/OneDrive/Desktop/ThyroidCancerRecurrencePrediction/data/thyroid_cancer_data.csv'\n",
    "df = pd.read_csv(data_path)\n",
    "\n",
    "# Prepare Features and Target\n",
    "y = df['Recurred']  # Keep the target variable\n",
    "X = df.drop('Recurred', axis=1)\n",
    "\n",
    "# Convert categorical variables to dummies for features only\n",
    "X = pd.get_dummies(X, drop_first=True)\n",
    "\n",
    "# Train-Test Split\n",
    "X_train, X_test, y_train, y_test = train_test_split(X, y, test_size=0.2, random_state=42)\n",
    "\n",
    "# Train Model\n",
    "model = RandomForestClassifier()\n",
    "model.fit(X_train, y_train)\n",
    "\n",
    "# Model Evaluation\n",
    "y_pred = model.predict(X_test)\n",
    "print(confusion_matrix(y_test, y_pred))\n",
    "print(classification_report(y_test, y_pred))\n",
    "\n",
    "# Save Model\n",
    "joblib.dump(model, r'C:\\Users\\aahir\\Documents\\thyroid_recurrence_model.pkl')\n"
   ]
  },
  {
   "cell_type": "code",
   "execution_count": null,
   "id": "02043796-5dd9-424d-83be-b27256c52c77",
   "metadata": {},
   "outputs": [],
   "source": []
  }
 ],
 "metadata": {
  "kernelspec": {
   "display_name": "Python 3 (ipykernel)",
   "language": "python",
   "name": "python3"
  },
  "language_info": {
   "codemirror_mode": {
    "name": "ipython",
    "version": 3
   },
   "file_extension": ".py",
   "mimetype": "text/x-python",
   "name": "python",
   "nbconvert_exporter": "python",
   "pygments_lexer": "ipython3",
   "version": "3.13.0"
  }
 },
 "nbformat": 4,
 "nbformat_minor": 5
}
